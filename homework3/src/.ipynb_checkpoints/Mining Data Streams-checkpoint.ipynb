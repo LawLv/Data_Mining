{
 "cells": [
  {
   "cell_type": "markdown",
   "metadata": {},
   "source": [
    "# Homework 3: Mining Data Streams\n",
    "\n",
    "Date: 25/11/2024    By Yilai Chen and Chenyang Ding"
   ]
  },
  {
   "cell_type": "markdown",
   "metadata": {},
   "source": [
    "# Introduction\n",
    "\n",
    "This assignment is based on the algorithm described in \"L. De Stefani, A. Epasto, M. Riondato, and E. Upfal, [TRIÈST: Counting Local and Global Triangles in Fully-Dynamic Streams with Fixed Memory Size], KDD'16\". In particular, it implemented TRIÈST-BASE and TRIÈST-IMPR. Then we use the dataset from the website [https://snap.stanford.edu/data/ego-Facebook.html] as a sample dataset to test the performance of the algorithm.\n",
    "\n",
    "The content of this project is to study and implement a method for estimating the number of triangles in a graph under fixed memory constraints based on the Triest algorithm. The Triest algorithm is suitable for dynamic edge flow models. It randomly samples edges and maintains local counters to approximate the number of global triangles. This project mainly includes the following parts:\n",
    "\n",
    "## Algorithm implementation:\n",
    "\n",
    "Includes two algorithms: the basic version (TriestBase) and the improved version (TriestImproved). The latter improves the estimation accuracy by dynamically adjusting the counter.\n",
    "\n",
    "## Experiment and analysis:\n",
    "\n",
    "Use different sampling sizes M to estimate the number of triangles in the data flow multiple times and compare the results with the true value.\n",
    "\n",
    "## Visualization:\n",
    "\n",
    "Draw a chart showing the estimated results as the sampling size changes, and intuitively analyze the impact of the sampling size on the algorithm accuracy.\n",
    "Through this project, you can understand how to efficiently estimate complex indicators (such as the number of triangles) in large-scale graph data processing with limited memory and the effect."
   ]
  },
  {
   "cell_type": "markdown",
   "metadata": {},
   "source": [
    "# Questions\n",
    "\n",
    "1.*What were the challenges you have faced when implementing the algorithm?*\n",
    "\n",
    "Since we already have a theoretical basis, the challenge of this project is to understand the concept of Triest algorithm and use the appropriate data structure to implement it.\n",
    "\n",
    "2.*Can the algorithm be easily parallelized? If yes, how? If not, why? Explain.*\n",
    "\n",
    "The algorithm processes edges sequentially as they arrive in the stream, which inherently limits opportunities for parallelism. Each operation depends on the order of edge arrivals. The algorithm maintains a sample set of edges (self.S) and counters (self.tau, self.tau_vertices) that are dynamically updated. These updates are blocking operations, meaning one operation must complete before the next can begin to ensure consistency.\n",
    "\n",
    "3.*Does the algorithm work for unbounded graph streams? Explain.*\n",
    "\n",
    "The algorithm is designed to maintain a fixed-size reservoir of sampled edges (M) regardless of the total size of the graph stream. This makes it suitable for unbounded streams where the total number of edges is unknown or infinite.\n",
    "\n",
    "4.*Does the algorithm support edge deletions? If not, what modification would it need? Explain.*\n",
    "\n",
    "TRIÈST-BASE and TRIÈST-IMPR do not support edge deletion, but in the same paper there is an algorithm, TRIÈST-FD. This algorithm implements support for edge deletion based on the concept of **Random Pairing (RP)**.\n",
    "\n",
    "Key improvements of TRIÈST-FD\n",
    "Track deleted edges:\n",
    "TRIÈST-FD records the number of edges deleted from the sampleset due to edge deletions in the flow.\n",
    "\n",
    "Record the number of overall deletions:\n",
    "TRIÈST-FD also records the total number of edge deletions that occurred in the flow.\n",
    "\n",
    "Adjust the triangle estimation formula:\n",
    "The triangle estimation formula of TRIÈST-FD is modified based on the record of deletion operations to more accurately reflect the actual structure of the graph."
   ]
  },
  {
   "cell_type": "markdown",
   "metadata": {},
   "source": [
    "# How to Run\n",
    "\n",
    "Steps:\n",
    "\n",
    "1. Ensure to have Python 3 and anaconda installed on your machine.\n",
    "1. Ensure the related libs are installed in your environment.\n",
    "1. Start Jupyter Notebook.\n",
    "1. Press \"Run/Run all Cells\"."
   ]
  },
  {
   "cell_type": "markdown",
   "metadata": {},
   "source": [
    "# Experiments"
   ]
  },
  {
   "cell_type": "markdown",
   "metadata": {},
   "source": [
    "To test the TRIEST algorithm for graph triangle estimation, we run experiments on the [Social circles: Facebook](https://snap.stanford.edu/data/ego-Facebook.html) dataset. The dataset contains 4039 nodes, 88234 edges, and 1612010 triangles. We will compare the number of triangles found by the Triest Base and Improved algorithm with different reservoir sizes with the real number of triangles in the graph."
   ]
  },
  {
   "cell_type": "markdown",
   "metadata": {},
   "source": [
    "## Set up"
   ]
  },
  {
   "cell_type": "markdown",
   "metadata": {},
   "source": [
    "Firstly, we set up the experiments by importing the required libraries and defining the path to the dataset file."
   ]
  },
  {
   "cell_type": "markdown",
   "metadata": {},
   "source": [
    "### Import Libraries"
   ]
  },
  {
   "cell_type": "code",
   "execution_count": null,
   "metadata": {},
   "outputs": [],
   "source": [
    "import numpy as np\n",
    "import seaborn as sns\n",
    "import matplotlib.pyplot as plt\n",
    "import os\n",
    "\n",
    "from triest import *\n",
    "\n",
    "sns.set_style('whitegrid')"
   ]
  },
  {
   "cell_type": "markdown",
   "metadata": {},
   "source": [
    "### Define Path"
   ]
  },
  {
   "cell_type": "code",
   "execution_count": null,
   "metadata": {},
   "outputs": [],
   "source": [
    "path = os.path.dirname(os.getcwd())\n",
    "data_path = os.path.join(path, 'data', 'facebook_combined.txt')\n",
    "data_path"
   ]
  },
  {
   "cell_type": "markdown",
   "metadata": {},
   "source": [
    "## Triest Base"
   ]
  },
  {
   "cell_type": "markdown",
   "metadata": {},
   "source": [
    "We estimate the number of triangles in the graph with the Triest Base algorithm ten times for each M=1000, 5000, 10000, 20000, and 30000."
   ]
  },
  {
   "cell_type": "code",
   "execution_count": null,
   "metadata": {},
   "outputs": [],
   "source": [
    "# M = [1000, 5000, 10000, 15000, 20000, 25000, 30000]\n",
    "M = [1000, 5000]\n",
    "iterations = 10\n",
    "all_estimations = []\n",
    "\n",
    "for m in M:\n",
    "    print(f\"\\nM={m}...\")\n",
    "    estimations = []\n",
    "    for i in range(iterations):\n",
    "        print(f\"\\rRunning iteration {i+1}/{iterations} ...\", end=\"\")\n",
    "        estimation = BasicTriangleCounter(file_path=data_path, max_memory=m, verbose=False).execute()\n",
    "        estimations.append(estimation)\n",
    "    all_estimations.append(estimations)"
   ]
  },
  {
   "cell_type": "markdown",
   "metadata": {},
   "source": [
    "We observe that the increase in the reservoir size produces estimates that are more precise and less variant."
   ]
  },
  {
   "cell_type": "code",
   "execution_count": null,
   "metadata": {},
   "outputs": [],
   "source": [
    "true_value = 1612010\n",
    "\n",
    "# 创建并排的子图\n",
    "fig, axes = plt.subplots(1, 2, figsize=(14, 6))  # 1 行 2 列的子图布局\n",
    "\n",
    "# 子图 1：没有限定 y 轴的散点图\n",
    "for i in range(len(M)):\n",
    "    axes[0].scatter([M[i]]*10, all_estimations[i])\n",
    "axes[0].plot([1000, 30000], [true_value, true_value], label=\"True Value\")\n",
    "axes[0].set_xlabel('Size of the Reservoir (M)')\n",
    "axes[0].set_ylabel('Estimated number of triangles')\n",
    "axes[0].set_title('Number of triangles vs. Size of the reservoir')\n",
    "axes[0].legend()\n",
    "\n",
    "# 子图 2：限定 y 轴范围的散点图\n",
    "for i in range(len(M)):\n",
    "    axes[1].scatter([M[i]]*10, all_estimations[i])\n",
    "axes[1].plot([1000, 30000], [true_value, true_value], label=\"True Value\")\n",
    "axes[1].set_xlabel('Size of the Reservoir (M)')\n",
    "axes[1].set_ylabel('Estimated number of triangles')\n",
    "axes[1].set_title('Number of triangles vs. Size of the reservoir (Zoomed)')\n",
    "axes[1].set_ylim(15e5, 175e4)\n",
    "axes[1].legend()\n",
    "\n",
    "# 调整布局并显示\n",
    "plt.tight_layout()\n",
    "plt.show()"
   ]
  },
  {
   "cell_type": "code",
   "execution_count": null,
   "metadata": {},
   "outputs": [],
   "source": [
    "true_value = 1612010\n",
    "\n",
    "# 计算均值和标准差\n",
    "means = [np.mean(all_estimations[i]) for i in range(len(M))]\n",
    "stds = [np.std(all_estimations[i]) for i in range(len(M))]\n",
    "\n",
    "# 创建并排的子图\n",
    "fig, axes = plt.subplots(1, 2, figsize=(14, 6))  # 1 行 2 列的子图布局\n",
    "\n",
    "# 子图 1：误差棒图\n",
    "axes[0].errorbar(M, means, yerr=stds, fmt='o', capsize=5, label='Mean ± Std')\n",
    "axes[0].plot([1000, 30000], [true_value, true_value], label='True Value', linestyle='--')\n",
    "axes[0].set_xlabel('Size of the Reservoir (M)')\n",
    "axes[0].set_ylabel('Estimated number of triangles')\n",
    "axes[0].set_title('Mean Estimated Triangles with Error Bars')\n",
    "axes[0].set_ylim(125e4, 175e4)\n",
    "axes[0].legend()\n",
    "\n",
    "# 子图 2：箱线图\n",
    "axes[1].boxplot(all_estimations, positions=M, widths=1000)\n",
    "axes[1].plot([1000, 30000], [true_value, true_value], label='True Value', linestyle='--')\n",
    "axes[1].set_xlabel('Size of the Reservoir (M)')\n",
    "axes[1].set_ylabel('Estimated number of triangles')\n",
    "axes[1].set_title('Box Plot of Estimations for Each Reservoir Size')\n",
    "axes[1].set_xticks(M)  # 设置 x 轴刻度为采样大小\n",
    "axes[1].set_ylim(125e4, 175e4)\n",
    "axes[1].legend()\n",
    "\n",
    "# 调整布局并显示图形\n",
    "plt.tight_layout()\n",
    "plt.show()"
   ]
  },
  {
   "cell_type": "markdown",
   "metadata": {},
   "source": [
    "## Triest Improved"
   ]
  },
  {
   "cell_type": "markdown",
   "metadata": {},
   "source": [
    "We estimate the number of triangles in the graph with the Triest Improved algorithm ten times for each M=1000, 5000, 10000, 20000, and 30000."
   ]
  },
  {
   "cell_type": "code",
   "execution_count": null,
   "metadata": {},
   "outputs": [],
   "source": [
    "# M = [1000, 5000, 10000, 15000, 20000, 25000, 30000]\n",
    "M = [1000, 5000]\n",
    "iterations = 10\n",
    "all_estimations2 = []\n",
    "\n",
    "for m in M:\n",
    "    print(f\"\\nM={m}...\")\n",
    "    estimations = []\n",
    "    for i in range(iterations):\n",
    "        print(f\"\\rRunning iteration {i+1}/{iterations} ...\", end=\"\")\n",
    "        estimation = ImprovedTriangleCounter(file_path=data_path, max_memory=m, verbose=False).execute()\n",
    "        estimations.append(estimation)\n",
    "    all_estimations2.append(estimations)"
   ]
  },
  {
   "cell_type": "markdown",
   "metadata": {},
   "source": [
    "We observe that the increase in the reservoir size produces estimates that are more precise and less variant. In comparison to the Triest Base, we can visually inspect that the estimations vary less."
   ]
  },
  {
   "cell_type": "code",
   "execution_count": null,
   "metadata": {},
   "outputs": [],
   "source": [
    "true_value = 1612010\n",
    "\n",
    "# 创建并排的子图\n",
    "fig, axes = plt.subplots(1, 2, figsize=(14, 6))  # 1 行 2 列的子图布局\n",
    "\n",
    "# 子图 1：没有限定 y 轴的散点图\n",
    "for i in range(len(M)):\n",
    "    axes[0].scatter([M[i]]*10, all_estimations2[i])\n",
    "axes[0].plot([1000, 30000], [true_value, true_value], label=\"True Value\")\n",
    "axes[0].set_xlabel('Size of the Reservoir (M)')\n",
    "axes[0].set_ylabel('Estimated number of triangles')\n",
    "axes[0].set_title('Number of triangles vs. Size of the reservoir')\n",
    "axes[0].legend()\n",
    "\n",
    "# 子图 2：限定 y 轴范围的散点图\n",
    "for i in range(len(M)):\n",
    "    axes[1].scatter([M[i]]*10, all_estimations2[i])\n",
    "axes[1].plot([1000, 30000], [true_value, true_value], label=\"True Value\")\n",
    "axes[1].set_xlabel('Size of the Reservoir (M)')\n",
    "axes[1].set_ylabel('Estimated number of triangles')\n",
    "axes[1].set_title('Number of triangles vs. Size of the reservoir (Zoomed)')\n",
    "axes[1].set_ylim(15e5, 175e4)\n",
    "axes[1].legend()\n",
    "\n",
    "# 调整布局并显示\n",
    "plt.tight_layout()\n",
    "plt.show()\n"
   ]
  },
  {
   "cell_type": "code",
   "execution_count": null,
   "metadata": {},
   "outputs": [],
   "source": [
    "true_value = 1612010\n",
    "\n",
    "# 计算均值和标准差\n",
    "means = [np.mean(all_estimations2[i]) for i in range(len(M))]\n",
    "stds = [np.std(all_estimations2[i]) for i in range(len(M))]\n",
    "\n",
    "# 创建并排的子图\n",
    "fig, axes = plt.subplots(1, 2, figsize=(14, 6))  # 1 行 2 列的子图布局\n",
    "\n",
    "# 子图 1：误差棒图\n",
    "axes[0].errorbar(M, means, yerr=stds, fmt='o', capsize=5, label='Mean ± Std')\n",
    "axes[0].plot([1000, 30000], [true_value, true_value], label='True Value', linestyle='--')\n",
    "axes[0].set_xlabel('Size of the Reservoir (M)')\n",
    "axes[0].set_ylabel('Estimated number of triangles')\n",
    "axes[0].set_title('Mean Estimated Triangles with Error Bars')\n",
    "axes[0].set_ylim(125e4, 175e4)\n",
    "axes[0].legend()\n",
    "\n",
    "# 子图 2：箱线图\n",
    "axes[1].boxplot(all_estimations2, positions=M, widths=1000)\n",
    "axes[1].plot([1000, 30000], [true_value, true_value], label='True Value', linestyle='--')\n",
    "axes[1].set_xlabel('Size of the Reservoir (M)')\n",
    "axes[1].set_ylabel('Estimated number of triangles')\n",
    "axes[1].set_title('Box Plot of Estimations for Each Reservoir Size')\n",
    "axes[1].set_xticks(M)  # 设置 x 轴刻度为采样大小\n",
    "axes[1].set_ylim(125e4, 175e4)\n",
    "axes[1].legend()\n",
    "\n",
    "# 调整布局并显示图形\n",
    "plt.tight_layout()\n",
    "plt.show()"
   ]
  }
 ],
 "metadata": {
  "kernelspec": {
   "display_name": "Python 3 (ipykernel)",
   "language": "python",
   "name": "python3"
  },
  "language_info": {
   "codemirror_mode": {
    "name": "ipython",
    "version": 3
   },
   "file_extension": ".py",
   "mimetype": "text/x-python",
   "name": "python",
   "nbconvert_exporter": "python",
   "pygments_lexer": "ipython3",
   "version": "3.8.20"
  }
 },
 "nbformat": 4,
 "nbformat_minor": 4
}
